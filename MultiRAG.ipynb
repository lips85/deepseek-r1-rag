{
 "cells": [
  {
   "cell_type": "code",
   "execution_count": 1,
   "metadata": {},
   "outputs": [
    {
     "data": {
      "text/plain": [
       "True"
      ]
     },
     "execution_count": 1,
     "metadata": {},
     "output_type": "execute_result"
    }
   ],
   "source": [
    "from dotenv import load_dotenv\n",
    "import os\n",
    "\n",
    "load_dotenv()"
   ]
  },
  {
   "cell_type": "markdown",
   "metadata": {},
   "source": [
    "##### Naive RAG. Approach 1"
   ]
  },
  {
   "cell_type": "code",
   "execution_count": 6,
   "metadata": {},
   "outputs": [],
   "source": [
    "# pip install pypdf faiss-cpu\n",
    "from langchain_openai import ChatOpenAI\n",
    "from langchain_openai import OpenAIEmbeddings\n",
    "from langchain_core.runnables import RunnablePassthrough\n",
    "from langchain_community.document_loaders import PyPDFLoader\n",
    "from langchain_community.vectorstores import FAISS"
   ]
  },
  {
   "cell_type": "code",
   "execution_count": 7,
   "metadata": {},
   "outputs": [
    {
     "data": {
      "text/plain": [
       "['NVIDIA-2022-Annual-Report.pdf',\n",
       " 'NVIDIA-2023-Annual-Report.pdf',\n",
       " 'NVIDIA-2024-Annual-Report.pdf']"
      ]
     },
     "execution_count": 7,
     "metadata": {},
     "output_type": "execute_result"
    }
   ],
   "source": [
    "file_paths = os.listdir(\"files\")\n",
    "file_paths"
   ]
  },
  {
   "cell_type": "code",
   "execution_count": 8,
   "metadata": {},
   "outputs": [],
   "source": [
    "all_pages = []\n",
    "for file_path in file_paths:\n",
    "    loader = PyPDFLoader(\"files/\" + file_path)\n",
    "    pages = loader.load_and_split()\n",
    "    all_pages += pages"
   ]
  },
  {
   "cell_type": "code",
   "execution_count": 9,
   "metadata": {},
   "outputs": [],
   "source": [
    "vectorstore = FAISS.from_documents(all_pages, OpenAIEmbeddings())"
   ]
  },
  {
   "cell_type": "code",
   "execution_count": 10,
   "metadata": {},
   "outputs": [],
   "source": [
    "llm = ChatOpenAI(model=\"gpt-3.5-turbo-0125\", temperature=0)"
   ]
  },
  {
   "cell_type": "code",
   "execution_count": 11,
   "metadata": {},
   "outputs": [],
   "source": [
    "from langchain_core.prompts import (\n",
    "    ChatPromptTemplate,\n",
    "    SystemMessagePromptTemplate,\n",
    "    HumanMessagePromptTemplate,\n",
    ")\n",
    "from langchain_core.output_parsers import StrOutputParser\n",
    "\n",
    "chat_prompt = ChatPromptTemplate.from_messages(\n",
    "    [\n",
    "        SystemMessagePromptTemplate.from_template(\n",
    "            \"You are an assistant for question-answering tasks. Use the following pieces of retrieved context to answer the question. \"\n",
    "            \"If you don't know the answer, just say that you don't know. Use three sentences maximum and keep the answer concise.\"\n",
    "        ),\n",
    "        HumanMessagePromptTemplate.from_template(\n",
    "            \"Question: {question} \\n\\nContext: {context}\\n\\n Answer:\"\n",
    "        ),\n",
    "    ]\n",
    ")\n",
    "\n",
    "output_parser = StrOutputParser()"
   ]
  },
  {
   "cell_type": "code",
   "execution_count": 13,
   "metadata": {},
   "outputs": [],
   "source": [
    "retriever = vectorstore.as_retriever()\n",
    "\n",
    "rag_chain = (\n",
    "    {\"context\": retriever, \"question\": RunnablePassthrough()}\n",
    "    | chat_prompt\n",
    "    | llm\n",
    "    | output_parser\n",
    ")"
   ]
  },
  {
   "cell_type": "code",
   "execution_count": 23,
   "metadata": {},
   "outputs": [
    {
     "data": {
      "text/plain": [
       "'In 2024, Nvidia achieved significant milestones such as tripling Data Center revenue, launching the Arm-based data center CPU Grace, introducing the Blackwell GPU architecture for AI applications, and surpassing $1 billion in Automotive revenue with the NVIDIA DRIVE Orin AI car computer. Nvidia also announced the GeForce RTX 40 SUPER Series family of gaming GPUs and advancements in cloud-native Inference Microservices for AI applications. Additionally, they continued to advance adoption of Omniverse across various industries.'"
      ]
     },
     "execution_count": 23,
     "metadata": {},
     "output_type": "execute_result"
    }
   ],
   "source": [
    "rag_chain.invoke(\"What are the Nvidia achievements in 2024?\")"
   ]
  },
  {
   "cell_type": "code",
   "execution_count": 24,
   "metadata": {},
   "outputs": [],
   "source": [
    "result = retriever.invoke(\"What are the Nvidia achievements in 2022?\")"
   ]
  },
  {
   "cell_type": "code",
   "execution_count": 25,
   "metadata": {},
   "outputs": [
    {
     "data": {
      "text/plain": [
       "[Document(id='b936df86-98d6-4c84-a260-41818c18e7b5', metadata={'source': 'files/NVIDIA-2024-Annual-Report.pdf', 'page': 33, 'page_label': '34'}, page_content='Business Highlights\\n• NVIDIA accelerated computing reached the tipping point, with Data Center revenue more than tripling in Fiscal \\n2024 on higher shipments of the NVIDIA Hopper GPU computing platform and InfiniBand \\n• Started shipping our first Arm-based data center CPU – Grace – as part of the GH200 Grace Hopper Superchip, \\nand ramping Grace-based products into a new multi-billion dollar product line\\n• Launched the Blackwell GPU architecture, powering a wave of upcoming data center-scale platforms for the \\ntrillion-parameter-scale AI\\n• Introduced NVIDIA Spectrum-X, an accelerated networking platform for building multi-tenant, hyperscale AI \\nclouds with Ethernet, and announced the new Quantum-X800 InfiniBand and Spectrum-X800 Ethernet switches\\n• Introduced cloud-native NVIDIA Inference Microservices to help developers build and deploy AI and accelerated \\napplications, including more than two dozen healthcare NIMs for drug discovery, medical technology, and digital \\nhealth\\n• Announced the NVIDIA GeForce RTX 40 SUPER Series family of gaming GPUs and a platform to fuel the next \\nwave of generative AI applications coming to PCs, targeting over 100 million RTX PCs in the installed base\\n• Surpassed $1 billion in full-year Automotive revenue on continued adoption of the NVIDIA DRIVE Orin AI car \\ncomputer and announced several design wins for its successor, DRIVE Thor, available next year\\n• Continued to advance adoption of Omniverse, our virtual world development platform based on OpenUSD, across \\nindustrial digitalization, robotics, and autonomous vehicle applications with the introduction of cloud APIs\\nFiscal 2024 Shareholder Returns\\nTotal Shareholder Return (TSR)* Return of Capital to Shareholders (in Billions)\\n*Represents cumulative stock price appreciation with dividends \\nreinvested and is measured for the applicable fiscal year periods \\nbased on the closing price ($610.31) of NVIDIA’s common stock \\non January\\xa026, 2024, the last trading day before the end of our \\nFiscal 2024, as reported by Nasdaq.\\nPlease see our Form 10-K for more financial information for Fiscal 2024.\\n5'),\n",
       " Document(id='22bfc90a-7fd4-44d1-b0dc-291a9d3e5de2', metadata={'source': 'files/NVIDIA-2024-Annual-Report.pdf', 'page': 27, 'page_label': '28'}, page_content='NVIDIA GR00T is an LLM for humanoid \\nrobots. Isaac Sim is a robotic gym \\nbuilt in Omniverse. NVIDIA Jetson is \\na robot computer. NVIDIA robotics \\nplatforms for building and deploying \\nAI-powered robots, such as the \\nIsaac software and Jetson computer, \\nhave over 1.2 million developers and \\n10,000 customers and partners.\\nNVIDIA has dedicated nearly a decade \\nto robotics AI and is excited to see it all \\ncome together. In time, humanoid and \\ntask-specific robots will be an industry \\nlarger than the auto and consumer \\nelectronics industries combined.\\nA Defining Year and the \\nStart of a Defining Decade\\nThis year was a watershed moment \\nfor NVIDIA, our customers, and our \\necosystem partners. NVIDIA accelerated \\ncomputing has reached the tipping point, \\nfundamentally reinvented computing, \\nand is the path forward for sustainable \\ncomputing. Generative AI is driving a \\nplatform transition and starting a new \\nindustrial revolution where AI factories \\nwill manufacture intelligence. NVIDIA \\nis at the center of the simultaneous \\ncomputing and industrial revolution.\\nNVIDIA is the result of the decades-\\nlong pursuit of a vision and the life’s \\nwork of our employees. NVIDIA is \\nwell-known for the caliber of our people, \\nwho have worked together for a long \\ntime, and our determined and resilient \\nculture that prioritizes our people.\\n2023 was an extraordinary year. \\nThough trouble around the world \\nmade it challenging, I’m incredibly \\nproud of the character of people, \\nproud that we supported our families \\nthroughout, and proud that we focused \\non creating the conditions for our \\nemployees to do their life’s work. \\n2024 is shaping up to be even more \\nincredible. We can expect unbelievable \\ntechnology breakthroughs from \\nnext-level LLMs and generative \\nAI across many industries, from \\ndigital biology to robotics. You’ll \\nwant to see what’s coming.\\nJensen Huang  \\nCEO and Founder, NVIDIA \\nMay 2024'),\n",
       " Document(id='6c109fb0-c4f4-4a53-81b4-5d030ab45785', metadata={'source': 'files/NVIDIA-2023-Annual-Report.pdf', 'page': 23, 'page_label': '24'}, page_content='Recent Highlights\\nRecent business highlights include:\\n• The NVIDIA Hopper GPU architecture and ramp of the first products based on the architecture, including the \\nNVIDIA H100 Tensor Core GPU\\n• NVIDIA cloud services, including:\\n◦ NVIDIA DGX Cloud, an AI supercomputing service that gives enterprises immediate access to the \\ninfrastructure and software needed to train advanced models for generative AI and other \\ngroundbreaking applications. NVIDIA has partnered with leading cloud service providers to host these \\nservices in their data centers\\n◦ NVIDIA AI Foundations, a set of cloud services that advance enterprise-level generative AI and enable \\ncustomization across use cases in areas such as text, visual content, and biology\\n◦ NVIDIA Omniverse Cloud, a platform-as-a-service giving instant access to a full-stack environment to \\ndesign, develop, deploy and manage industrial metaverse applications\\n• New inference platforms for generative AI inflection\\n• The new Ada Lovelace GPU architecture, and introduction of the first products based on Ada. We also introduced \\nNVIDIA DLSS 3 for over 50 games and applications and brought GeForce RTX 4080-class performance to the \\nGeForce NOW Ultimate membership tier\\n• Production of the NVIDIA DRIVE Orin autonomous vehicle system-on-a-chip and introduction of next-generation \\nNVIDIA DRIVE Thor\\n Fiscal 2023 Returns to Shareholders\\nTotal Shareholder Return* Total Capital Returned to Shareholders\\n*Represents cumulative stock price appreciation with dividends \\nreinvested and is measured for the applicable fiscal year periods \\nbased on our closing stock price of $203.65 on the last trading \\nday of Fiscal 2023.\\nPlease see our Form 10-K for more financial information for Fiscal 2023.\\n5'),\n",
       " Document(id='b990b335-7aac-408c-9c58-e321c89f1198', metadata={'source': 'files/NVIDIA-2023-Annual-Report.pdf', 'page': 13, 'page_label': '14'}, page_content='We had a tough 2022. Our business \\nwas affected by economic headwinds, \\ngeopolitical tension, and a product \\nsupply chain that swung from severe \\nshortage to excess. NVIDIANs rose to \\ntackle each challenge while inventing \\nnew technologies and capabilities \\nthat position us at the center of \\nthe most exciting opportunities \\nin the history of computing.\\nData center AI and accelerated \\nworkloads are continuing to skyrocket. \\nDevelopers are shifting to NVIDIA \\naccelerated computing as the four-\\ndecade-long exponential scaling of CPU-\\nbased general-purpose computing ends. \\nChatGPT, the AI application heard \\naround the world, showcased the \\nabilities of generative AI and its \\npotential to drive industrial productivity \\nand advance the world’s most significant \\nscientific challenges. Generative AI \\nhas created a sense of urgency in \\ncompanies everywhere to reimagine \\ntheir products and business models. \\nGenerative AI is also accelerating \\nindustrial digitalization. The largest \\nindustries, from auto manufacturing to \\npharmaceutical, will be reinvented with \\ngenerative AI and become some of the \\nmost advanced technology industries. \\nNVIDIA’s body of work is reshaping \\nthe future of computing.\\nAccelerated Computing …\\nAccelerated computing is not easy—\\nit requires full-stack optimization \\nfrom chip architecture, systems, and \\nacceleration libraries, to refactoring \\nthe applications. Each application \\ndomain requires optimized stacks—\\nfrom graphics, imaging, and particle or \\nfluid dynamics to data processing and \\nmachine learning. NVIDIA pioneered \\naccelerated computing by extending \\nthe GPU, a 3D graphics accelerator, \\ninto a parallel computing accelerator.\\nNVIDIA acceleration libraries build on \\nCUDA, and all NVIDIA GPUs are CUDA-\\ncompatible. Four million developers \\nare working with CUDA, and that \\nnumber is expanding. It took 12 years \\nto reach 2 million developers, but \\nwe’ve doubled that number in the last \\ntwo and a half years. CUDA has been \\ndownloaded more than 40 million times. \\nA wealth of accelerated applications \\nattracts end users, which creates a \\nlarge market for cloud service providers \\nand computer makers to serve. This in \\nturn affords billions in R&D to fuel its \\ngrowth. NVIDIA has established the \\naccelerated computing virtuous cycle.\\nWe help developers achieve incredible \\nspeedups through full-stack invention, \\nfrom the chips and systems to the \\nalgorithms and applications they \\nrun. These algorithms are optimized \\nand packaged into acceleration \\nlibraries, where they help millions \\nof developers across industries \\nsolve complex problems. NVIDIA has \\nhundreds of acceleration libraries \\nthat form our core platforms: NVIDIA \\nRTX for graphics, NVIDIA HPC for \\nscientific computing, NVIDIA AI for \\ndata science and artificial intelligence, \\nNVIDIA DRIVE for autonomous \\nvehicles, and NVIDIA Omniverse for \\nindustrial digitalization applications.\\nWe now offer 300 acceleration libraries \\nand 400 AI models, with 100 added or \\nupdated in the past year alone, including \\ncuQuantum for quantum computing, \\ncuOpt for combinatorial optimization, \\nDear NVIDIANs \\nand Stakeholders,\\nRevenue\\nFlat\\nin Billions\\nGross Margin\\n-8.0 pts\\nGAAP Results\\nEPS\\n-55%\\nFY22 FY23\\n$0\\n$5\\n$10\\n$15\\n$20\\n$25\\n$30\\nFY22 FY23\\n$0\\n$1\\n$2\\n$3\\n$4\\nFY22 FY23\\n54%\\n56%\\n58%\\n64%\\n62%\\n66%\\n$26.91 B\\n$26.97 B\\n56.9%\\n64.9%\\n$3.85\\n$1.74')]"
      ]
     },
     "execution_count": 25,
     "metadata": {},
     "output_type": "execute_result"
    }
   ],
   "source": [
    "result"
   ]
  },
  {
   "cell_type": "markdown",
   "metadata": {},
   "source": [
    "##### Agent RAG With Tools. Approach 2"
   ]
  },
  {
   "cell_type": "code",
   "execution_count": 26,
   "metadata": {},
   "outputs": [],
   "source": [
    "# pip install pypdf faiss-cpu\n",
    "from langchain_openai import ChatOpenAI\n",
    "from langchain_openai import OpenAIEmbeddings\n",
    "from langchain_core.runnables import RunnablePassthrough\n",
    "from langchain_community.document_loaders import PyPDFLoader\n",
    "from langchain_community.vectorstores import FAISS\n",
    "from langchain.tools.retriever import create_retriever_tool\n",
    "from langgraph.prebuilt import create_react_agent"
   ]
  },
  {
   "cell_type": "code",
   "execution_count": 27,
   "metadata": {},
   "outputs": [
    {
     "data": {
      "text/plain": [
       "['NVIDIA-2022-Annual-Report.pdf',\n",
       " 'NVIDIA-2023-Annual-Report.pdf',\n",
       " 'NVIDIA-2024-Annual-Report.pdf']"
      ]
     },
     "execution_count": 27,
     "metadata": {},
     "output_type": "execute_result"
    }
   ],
   "source": [
    "folder_path = \"files\"\n",
    "file_paths = os.listdir(folder_path)\n",
    "file_paths"
   ]
  },
  {
   "cell_type": "code",
   "execution_count": 28,
   "metadata": {},
   "outputs": [],
   "source": [
    "# Initialize a dictionary to store retriever tools\n",
    "retriever_tools = {}"
   ]
  },
  {
   "cell_type": "code",
   "execution_count": 29,
   "metadata": {},
   "outputs": [],
   "source": [
    "# Loop through each file and create a separate retriever tool\n",
    "for file_name in file_paths:\n",
    "\n",
    "    loader = PyPDFLoader(\"files/\" + file_path)\n",
    "    pages = loader.load_and_split()\n",
    "\n",
    "    # Create a vector store for each document\n",
    "    vector_store = FAISS.from_documents(pages, OpenAIEmbeddings())\n",
    "    retriever = vector_store.as_retriever()\n",
    "\n",
    "    # Create a retriever tool with a unique description\n",
    "    tool_name = f\"report_search_{file_name.replace('.pdf', '')}\"\n",
    "    description = f\"Search within the document {file_name} for relevant information.\"\n",
    "\n",
    "    retriever_tools[file_name] = create_retriever_tool(\n",
    "        retriever, tool_name, description\n",
    "    )"
   ]
  },
  {
   "cell_type": "code",
   "execution_count": 30,
   "metadata": {},
   "outputs": [
    {
     "data": {
      "text/plain": [
       "{'NVIDIA-2022-Annual-Report.pdf': Tool(name='report_search_NVIDIA-2022-Annual-Report', description='Search within the document NVIDIA-2022-Annual-Report.pdf for relevant information.', args_schema=<class 'langchain_core.tools.retriever.RetrieverInput'>, func=functools.partial(<function _get_relevant_documents at 0x00000262F86FACA0>, retriever=VectorStoreRetriever(tags=['FAISS', 'OpenAIEmbeddings'], vectorstore=<langchain_community.vectorstores.faiss.FAISS object at 0x00000262FF371790>, search_kwargs={}), document_prompt=PromptTemplate(input_variables=['page_content'], input_types={}, partial_variables={}, template='{page_content}'), document_separator='\\n\\n', response_format='content'), coroutine=functools.partial(<function _aget_relevant_documents at 0x00000262F8863420>, retriever=VectorStoreRetriever(tags=['FAISS', 'OpenAIEmbeddings'], vectorstore=<langchain_community.vectorstores.faiss.FAISS object at 0x00000262FF371790>, search_kwargs={}), document_prompt=PromptTemplate(input_variables=['page_content'], input_types={}, partial_variables={}, template='{page_content}'), document_separator='\\n\\n', response_format='content')),\n",
       " 'NVIDIA-2023-Annual-Report.pdf': Tool(name='report_search_NVIDIA-2023-Annual-Report', description='Search within the document NVIDIA-2023-Annual-Report.pdf for relevant information.', args_schema=<class 'langchain_core.tools.retriever.RetrieverInput'>, func=functools.partial(<function _get_relevant_documents at 0x00000262F86FACA0>, retriever=VectorStoreRetriever(tags=['FAISS', 'OpenAIEmbeddings'], vectorstore=<langchain_community.vectorstores.faiss.FAISS object at 0x00000262FFD5A7B0>, search_kwargs={}), document_prompt=PromptTemplate(input_variables=['page_content'], input_types={}, partial_variables={}, template='{page_content}'), document_separator='\\n\\n', response_format='content'), coroutine=functools.partial(<function _aget_relevant_documents at 0x00000262F8863420>, retriever=VectorStoreRetriever(tags=['FAISS', 'OpenAIEmbeddings'], vectorstore=<langchain_community.vectorstores.faiss.FAISS object at 0x00000262FFD5A7B0>, search_kwargs={}), document_prompt=PromptTemplate(input_variables=['page_content'], input_types={}, partial_variables={}, template='{page_content}'), document_separator='\\n\\n', response_format='content')),\n",
       " 'NVIDIA-2024-Annual-Report.pdf': Tool(name='report_search_NVIDIA-2024-Annual-Report', description='Search within the document NVIDIA-2024-Annual-Report.pdf for relevant information.', args_schema=<class 'langchain_core.tools.retriever.RetrieverInput'>, func=functools.partial(<function _get_relevant_documents at 0x00000262F86FACA0>, retriever=VectorStoreRetriever(tags=['FAISS', 'OpenAIEmbeddings'], vectorstore=<langchain_community.vectorstores.faiss.FAISS object at 0x00000262FFCF2990>, search_kwargs={}), document_prompt=PromptTemplate(input_variables=['page_content'], input_types={}, partial_variables={}, template='{page_content}'), document_separator='\\n\\n', response_format='content'), coroutine=functools.partial(<function _aget_relevant_documents at 0x00000262F8863420>, retriever=VectorStoreRetriever(tags=['FAISS', 'OpenAIEmbeddings'], vectorstore=<langchain_community.vectorstores.faiss.FAISS object at 0x00000262FFCF2990>, search_kwargs={}), document_prompt=PromptTemplate(input_variables=['page_content'], input_types={}, partial_variables={}, template='{page_content}'), document_separator='\\n\\n', response_format='content'))}"
      ]
     },
     "execution_count": 30,
     "metadata": {},
     "output_type": "execute_result"
    }
   ],
   "source": [
    "retriever_tools"
   ]
  },
  {
   "cell_type": "code",
   "execution_count": 31,
   "metadata": {},
   "outputs": [],
   "source": [
    "model = ChatOpenAI(model=\"gpt-3.5-turbo\", temperature=0)"
   ]
  },
  {
   "cell_type": "code",
   "execution_count": 32,
   "metadata": {},
   "outputs": [],
   "source": [
    "tools = [retriever_tools[file_name] for file_name in file_paths]"
   ]
  },
  {
   "cell_type": "code",
   "execution_count": 33,
   "metadata": {},
   "outputs": [],
   "source": [
    "agent_executor = create_react_agent(model, tools)"
   ]
  },
  {
   "cell_type": "code",
   "execution_count": 36,
   "metadata": {},
   "outputs": [
    {
     "data": {
      "text/plain": [
       "{'messages': [HumanMessage(content='What are the achievements of NVIDIA in 2024?', additional_kwargs={}, response_metadata={}, id='b129891e-7c09-405f-829b-97dc8cd79151'),\n",
       "  AIMessage(content='', additional_kwargs={'tool_calls': [{'id': 'call_SwByJRRXmBZsjxgBXpXto5ot', 'function': {'arguments': '{\"query\":\"achievements\"}', 'name': 'report_search_NVIDIA-2024-Annual-Report'}, 'type': 'function'}], 'refusal': None}, response_metadata={'token_usage': {'completion_tokens': 25, 'prompt_tokens': 187, 'total_tokens': 212, 'completion_tokens_details': {'accepted_prediction_tokens': 0, 'audio_tokens': 0, 'reasoning_tokens': 0, 'rejected_prediction_tokens': 0}, 'prompt_tokens_details': {'audio_tokens': 0, 'cached_tokens': 0}}, 'model_name': 'gpt-3.5-turbo-0125', 'system_fingerprint': None, 'finish_reason': 'tool_calls', 'logprobs': None}, id='run-3c29c3f5-964c-41be-a393-f572cc54f04c-0', tool_calls=[{'name': 'report_search_NVIDIA-2024-Annual-Report', 'args': {'query': 'achievements'}, 'id': 'call_SwByJRRXmBZsjxgBXpXto5ot', 'type': 'tool_call'}], usage_metadata={'input_tokens': 187, 'output_tokens': 25, 'total_tokens': 212, 'input_token_details': {'audio': 0, 'cache_read': 0}, 'output_token_details': {'audio': 0, 'reasoning': 0}}),\n",
       "  ToolMessage(content='Nominee Skills, Competencies, and Attributes\\nBelow are the skills, competencies, and attributes that our NCGC and Board consider important for our directors to have, \\nconsidering our current business and future market opportunities, and the director nominees who possess them: \\nSenior \\nLeadership \\n& \\nOperations \\nExperience\\nIndustry \\n& \\nTechnical\\nFinancial /\\nFinancial \\nCommunity\\nGovernance \\n& Public \\nCompany \\nBoard\\nEmerging \\nTechnologies \\n& Business \\nModels\\nMarketing, \\nCommunications \\n& Brand \\nManagement\\nRegulatory, \\nLegal & Risk \\nManagement\\nHuman \\nCapital \\nManagement \\nExperience \\nDiversity\\nBurgess ü ü ü ü ü\\nCoxe ü ü ü ü\\nDabiri ü ü ü\\nDrell ü ü ü ü ü ü\\nHuang ü ü ü ü ü ü ü ü ü\\nHudson ü ü ü ü ü ü\\nJones ü ü ü ü ü ü ü\\nLora ü ü ü ü ü ü ü\\nNeal ü ü ü ü ü\\nSeawell ü ü ü ü ü\\nShah ü ü ü ü ü ü ü ü\\nStevens ü ü ü ü\\nCorporate Governance Highlights\\nOur Board is committed to strong corporate governance to promote the long-term interests of the Company and our \\nstockholders.  We seek a collaborative approach to stockholder issues that affect our business and to ensure that our \\nstockholders see our governance and executive pay practices as well-structured.  In the Fall of 2023, we contacted our \\ntop institutional stockholders, representing an aggregate ownership of 31%, to gain insights into their views on corporate \\nsustainability practices, and diversity and inclusion.  \\nHighlights of our corporate governance practices include: \\xa0\\nü All Board members independent, except for our CEO\\nü Independent Lead Director\\nü Proxy access\\nü Declassified Board\\nü Majority voting for directors\\nü Active Board oversight of enterprise risk and risk \\nmanagement\\nü Stockholders can call a special meeting\\nü 75% or greater attendance by each Board member at \\nmeetings of the Board and applicable committees\\nü Independent directors frequently meet in executive\\n     sessions\\nü At least annual Board and committee self-assessments \\nü Annual stockholder outreach, including Lead Director \\nparticipation\\nü Stock ownership guidelines for our directors and NEOs\\nAdvisory Approval of Executive Compensation for Fiscal 2024 (Proposal 2)\\nWe are asking our stockholders to cast a non-binding vote, also known as “say-on-pay,” to approve our NEOs’ \\ncompensation.  The Board believes that our compensation policies and practices are effective in achieving our goals of \\npaying for performance; providing competitive pay so that we may attract and retain a high-caliber executive team; \\naligning our executives’ interests with those of our stockholders to create long-term value; and achieving simplicity and \\ntransparency with our compensation program.  The Board and our stockholders have approved holding our “say-on-pay” \\nvotes annually. \\nExecutive Compensation Highlights\\nOur executive compensation program is designed to pay for performance.  We utilize compensation elements that align \\nour NEOs’ interests with those of our stockholders to create long-term value.  Our NEOs’ compensation is heavily \\nweighted toward performance-based, “at-risk” variable cash and long-term equity awards that are only earned if the \\nCompany achieves pre-established corporate financial metrics, subject to caps on maximum payout.  For the last several \\nyears, over 90% of our CEO’s and over 50% of our other NEOs’ target pay has been performance-based and at-risk, and \\n100% of our CEO’s equity awards have been in the form of PSUs.\\nTo motivate our NEOs to focus on operational efficiencies and providing value-added products, the CC provided our \\nexecutives with an opportunity to earn Additional SY PSUs if we achieved (i) Fiscal 2024 Non-GAAP Operating Income at \\n8\\n\\nreadiness for future advancement.\\nTo evaluate employee sentiment and engagement, we use pulse surveys, a suggestion box, and an anonymous third-party \\nplatform. Pulse surveys help us gain insight into employee experience and provides employee-generated ideas so that we \\ncan take targeted action. The suggestion box is an always-on, interactive tool where employees share their thoughts \\nabout making our company a better place to work. The anonymous third-party platform is designed to protect the \\nidentity of the reporter and provide a mechanism for reporters to follow an investigation and receive responses.\\nWe want NVIDIA to be a place where people can build their careers over their lifetime. Our employees tend to come and \\nstay. In fiscal year 2024, our overall turnover rate was 2.7%.\\nCompensation, Benefits, and Well-Being\\nOur compensation program rewards performance and is structured to encourage employees to invest in the Company’s \\nfuture. Employees receive equity, except where unavailable due to local regulations, that is tied to the value of our stock \\nprice and vests over time to retain employees while simultaneously aligning their interests with those of our shareholders. \\nWe offer comprehensive benefits to support our employees’ and their families’ physical health, well-being, and financial \\nhealth. Programs include 401(k) programs in the U.S., statutory and supplemental pension programs outside the U.S., our \\nemployee stock purchase program, flexible work hours, and time off policies to address mental health, stress, and time-\\nmanagement challenges. We evaluate our benefit offerings globally and aim to provide comparable support across the \\nregions where we operate. We are committed to providing tailored benefits based on the needs of our Community \\nResource Groups and continuing our support for parents, both new birth parents and those who wish to become parents. \\n11\\n\\nCAP to company performance: \\nFinancial Measures\\nRevenue\\nNon-GAAP Operating Income\\nNon-GAAP Gross Margin\\n3-Year TSR relative to the S&P 500\\nRefer to CD&A above for a description of how each of these performance measures impacts NEO compensation.\\n62\\n\\nCorporate Sustainability  \\nNVIDIA invents computing technologies that improve lives and address global challenges. Our goal is to integrate sound \\nCS principles and practices into every aspect of the Company.  This proxy statement covers the following CS topics:\\n10', name='report_search_NVIDIA-2024-Annual-Report', id='2c4c4b5e-6e10-443a-85b5-cb34970f772f', tool_call_id='call_SwByJRRXmBZsjxgBXpXto5ot'),\n",
       "  AIMessage(content=\"In 2024, NVIDIA achieved the following highlights as mentioned in their annual report:\\n\\n1. Corporate Governance Highlights:\\n   - All Board members are independent, except for the CEO.\\n   - Independent Lead Director.\\n   - Proxy access.\\n   - Declassified Board.\\n   - Majority voting for directors.\\n   - Active Board oversight of enterprise risk and risk management.\\n   - Stockholders can call a special meeting.\\n   - Independent directors frequently meet in executive sessions.\\n   - Annual stockholder outreach.\\n   - Stock ownership guidelines for directors and NEOs.\\n\\n2. Advisory Approval of Executive Compensation for Fiscal 2024:\\n   - Stockholders cast a non-binding vote to approve NEOs' compensation.\\n   - Compensation policies aim to pay for performance and align executives' interests with stockholders.\\n\\n3. Executive Compensation Highlights:\\n   - Compensation program designed to pay for performance.\\n   - Emphasis on performance-based, at-risk variable cash and long-term equity awards.\\n   - Over 90% of CEO's and over 50% of other NEOs' target pay is performance-based.\\n   - CEO's equity awards have been in the form of PSUs.\\n\\n4. Employee Engagement and Well-Being:\\n   - Utilization of pulse surveys, suggestion box, and anonymous third-party platform for employee feedback.\\n   - Low turnover rate of 2.7% in fiscal year 2024.\\n   - Compensation program rewards performance and encourages investment in the company's future.\\n   - Comprehensive benefits to support employees' physical health, well-being, and financial health.\\n\\n5. Corporate Sustainability:\\n   - Integration of sound corporate sustainability principles and practices into every aspect of the company.\\n\\nThese achievements reflect NVIDIA's commitment to corporate governance, executive compensation, employee well-being, and corporate sustainability in 2024.\", additional_kwargs={'refusal': None}, response_metadata={'token_usage': {'completion_tokens': 361, 'prompt_tokens': 1499, 'total_tokens': 1860, 'completion_tokens_details': {'accepted_prediction_tokens': 0, 'audio_tokens': 0, 'reasoning_tokens': 0, 'rejected_prediction_tokens': 0}, 'prompt_tokens_details': {'audio_tokens': 0, 'cached_tokens': 0}}, 'model_name': 'gpt-3.5-turbo-0125', 'system_fingerprint': None, 'finish_reason': 'stop', 'logprobs': None}, id='run-1a923cab-fb7b-4ad4-8a1b-c4b47969d511-0', usage_metadata={'input_tokens': 1499, 'output_tokens': 361, 'total_tokens': 1860, 'input_token_details': {'audio': 0, 'cache_read': 0}, 'output_token_details': {'audio': 0, 'reasoning': 0}})]}"
      ]
     },
     "execution_count": 36,
     "metadata": {},
     "output_type": "execute_result"
    }
   ],
   "source": [
    "from langchain_core.messages import HumanMessage\n",
    "\n",
    "result = agent_executor.invoke(\n",
    "    {\"messages\": [HumanMessage(content=\"What are the achievements of NVIDIA in 2024?\")]}\n",
    ")\n",
    "result"
   ]
  },
  {
   "cell_type": "code",
   "execution_count": 37,
   "metadata": {},
   "outputs": [
    {
     "data": {
      "text/plain": [
       "{'messages': [HumanMessage(content='What are the achievements of NVIDIA in 2022?', additional_kwargs={}, response_metadata={}, id='9a61847f-160b-45fd-afb6-942c4c99bc23'),\n",
       "  AIMessage(content='', additional_kwargs={'tool_calls': [{'id': 'call_wnYXzoT2zcpTvcvuSaDw13d3', 'function': {'arguments': '{\"query\":\"achievements\"}', 'name': 'report_search_NVIDIA-2022-Annual-Report'}, 'type': 'function'}], 'refusal': None}, response_metadata={'token_usage': {'completion_tokens': 25, 'prompt_tokens': 187, 'total_tokens': 212, 'completion_tokens_details': {'accepted_prediction_tokens': 0, 'audio_tokens': 0, 'reasoning_tokens': 0, 'rejected_prediction_tokens': 0}, 'prompt_tokens_details': {'audio_tokens': 0, 'cached_tokens': 0}}, 'model_name': 'gpt-3.5-turbo-0125', 'system_fingerprint': None, 'finish_reason': 'tool_calls', 'logprobs': None}, id='run-605167a9-d0c4-40d8-a2bd-b2fcf5d9d017-0', tool_calls=[{'name': 'report_search_NVIDIA-2022-Annual-Report', 'args': {'query': 'achievements'}, 'id': 'call_wnYXzoT2zcpTvcvuSaDw13d3', 'type': 'tool_call'}], usage_metadata={'input_tokens': 187, 'output_tokens': 25, 'total_tokens': 212, 'input_token_details': {'audio': 0, 'cache_read': 0}, 'output_token_details': {'audio': 0, 'reasoning': 0}}),\n",
       "  ToolMessage(content='Nominee Skills, Competencies, and Attributes\\nBelow are the skills, competencies, and attributes that our NCGC and Board consider important for our directors to have, \\nconsidering our current business and future market opportunities, and the director nominees who possess them: \\nSenior \\nLeadership \\n& \\nOperations \\nExperience\\nIndustry \\n& \\nTechnical\\nFinancial /\\nFinancial \\nCommunity\\nGovernance \\n& Public \\nCompany \\nBoard\\nEmerging \\nTechnologies \\n& Business \\nModels\\nMarketing, \\nCommunications \\n& Brand \\nManagement\\nRegulatory, \\nLegal & Risk \\nManagement\\nHuman \\nCapital \\nManagement \\nExperience \\nDiversity\\nBurgess ü ü ü ü ü\\nCoxe ü ü ü ü\\nDabiri ü ü ü\\nDrell ü ü ü ü ü ü\\nHuang ü ü ü ü ü ü ü ü ü\\nHudson ü ü ü ü ü ü\\nJones ü ü ü ü ü ü ü\\nLora ü ü ü ü ü ü ü\\nNeal ü ü ü ü ü\\nSeawell ü ü ü ü ü\\nShah ü ü ü ü ü ü ü ü\\nStevens ü ü ü ü\\nCorporate Governance Highlights\\nOur Board is committed to strong corporate governance to promote the long-term interests of the Company and our \\nstockholders.  We seek a collaborative approach to stockholder issues that affect our business and to ensure that our \\nstockholders see our governance and executive pay practices as well-structured.  In the Fall of 2023, we contacted our \\ntop institutional stockholders, representing an aggregate ownership of 31%, to gain insights into their views on corporate \\nsustainability practices, and diversity and inclusion.  \\nHighlights of our corporate governance practices include: \\xa0\\nü All Board members independent, except for our CEO\\nü Independent Lead Director\\nü Proxy access\\nü Declassified Board\\nü Majority voting for directors\\nü Active Board oversight of enterprise risk and risk \\nmanagement\\nü Stockholders can call a special meeting\\nü 75% or greater attendance by each Board member at \\nmeetings of the Board and applicable committees\\nü Independent directors frequently meet in executive\\n     sessions\\nü At least annual Board and committee self-assessments \\nü Annual stockholder outreach, including Lead Director \\nparticipation\\nü Stock ownership guidelines for our directors and NEOs\\nAdvisory Approval of Executive Compensation for Fiscal 2024 (Proposal 2)\\nWe are asking our stockholders to cast a non-binding vote, also known as “say-on-pay,” to approve our NEOs’ \\ncompensation.  The Board believes that our compensation policies and practices are effective in achieving our goals of \\npaying for performance; providing competitive pay so that we may attract and retain a high-caliber executive team; \\naligning our executives’ interests with those of our stockholders to create long-term value; and achieving simplicity and \\ntransparency with our compensation program.  The Board and our stockholders have approved holding our “say-on-pay” \\nvotes annually. \\nExecutive Compensation Highlights\\nOur executive compensation program is designed to pay for performance.  We utilize compensation elements that align \\nour NEOs’ interests with those of our stockholders to create long-term value.  Our NEOs’ compensation is heavily \\nweighted toward performance-based, “at-risk” variable cash and long-term equity awards that are only earned if the \\nCompany achieves pre-established corporate financial metrics, subject to caps on maximum payout.  For the last several \\nyears, over 90% of our CEO’s and over 50% of our other NEOs’ target pay has been performance-based and at-risk, and \\n100% of our CEO’s equity awards have been in the form of PSUs.\\nTo motivate our NEOs to focus on operational efficiencies and providing value-added products, the CC provided our \\nexecutives with an opportunity to earn Additional SY PSUs if we achieved (i) Fiscal 2024 Non-GAAP Operating Income at \\n8\\n\\nreadiness for future advancement.\\nTo evaluate employee sentiment and engagement, we use pulse surveys, a suggestion box, and an anonymous third-party \\nplatform. Pulse surveys help us gain insight into employee experience and provides employee-generated ideas so that we \\ncan take targeted action. The suggestion box is an always-on, interactive tool where employees share their thoughts \\nabout making our company a better place to work. The anonymous third-party platform is designed to protect the \\nidentity of the reporter and provide a mechanism for reporters to follow an investigation and receive responses.\\nWe want NVIDIA to be a place where people can build their careers over their lifetime. Our employees tend to come and \\nstay. In fiscal year 2024, our overall turnover rate was 2.7%.\\nCompensation, Benefits, and Well-Being\\nOur compensation program rewards performance and is structured to encourage employees to invest in the Company’s \\nfuture. Employees receive equity, except where unavailable due to local regulations, that is tied to the value of our stock \\nprice and vests over time to retain employees while simultaneously aligning their interests with those of our shareholders. \\nWe offer comprehensive benefits to support our employees’ and their families’ physical health, well-being, and financial \\nhealth. Programs include 401(k) programs in the U.S., statutory and supplemental pension programs outside the U.S., our \\nemployee stock purchase program, flexible work hours, and time off policies to address mental health, stress, and time-\\nmanagement challenges. We evaluate our benefit offerings globally and aim to provide comparable support across the \\nregions where we operate. We are committed to providing tailored benefits based on the needs of our Community \\nResource Groups and continuing our support for parents, both new birth parents and those who wish to become parents. \\n11\\n\\nCAP to company performance: \\nFinancial Measures\\nRevenue\\nNon-GAAP Operating Income\\nNon-GAAP Gross Margin\\n3-Year TSR relative to the S&P 500\\nRefer to CD&A above for a description of how each of these performance measures impacts NEO compensation.\\n62\\n\\nCorporate Sustainability  \\nNVIDIA invents computing technologies that improve lives and address global challenges. Our goal is to integrate sound \\nCS principles and practices into every aspect of the Company.  This proxy statement covers the following CS topics:\\n10', name='report_search_NVIDIA-2022-Annual-Report', id='993d2791-de95-4710-874e-26b45320a798', tool_call_id='call_wnYXzoT2zcpTvcvuSaDw13d3'),\n",
       "  AIMessage(content=\"In the NVIDIA 2022 Annual Report, some of the achievements highlighted include:\\n\\n1. Corporate Governance Highlights:\\n   - All Board members are independent, except for the CEO.\\n   - Independent Lead Director.\\n   - Proxy access.\\n   - Declassified Board.\\n   - Majority voting for directors.\\n   - Active Board oversight of enterprise risk and risk management.\\n   - Stockholders can call a special meeting.\\n   - Independent directors frequently meet in executive sessions.\\n   - Annual stockholder outreach.\\n   - Stock ownership guidelines for directors and NEOs.\\n\\n2. Advisory Approval of Executive Compensation for Fiscal 2024:\\n   - Non-binding vote on executive compensation.\\n   - Compensation policies focused on paying for performance and aligning interests with stockholders.\\n\\n3. Executive Compensation Highlights:\\n   - Compensation program designed to pay for performance.\\n   - Emphasis on performance-based, at-risk variable cash and long-term equity awards.\\n   - Over 90% of CEO's and over 50% of other NEOs' target pay is performance-based.\\n   - CEO's equity awards in the form of PSUs.\\n\\n4. Employee Engagement and Well-Being:\\n   - Use of pulse surveys, suggestion box, and anonymous third-party platform to evaluate employee sentiment.\\n   - Low turnover rate of 2.7% in fiscal year 2024.\\n   - Compensation, benefits, and well-being programs to support employees' physical health, well-being, and financial health.\\n\\n5. Corporate Sustainability:\\n   - Integration of sound corporate sustainability principles and practices into every aspect of the company.\\n\\nThese achievements reflect NVIDIA's commitment to corporate governance, executive compensation, employee engagement, and corporate sustainability in 2022.\", additional_kwargs={'refusal': None}, response_metadata={'token_usage': {'completion_tokens': 340, 'prompt_tokens': 1499, 'total_tokens': 1839, 'completion_tokens_details': {'accepted_prediction_tokens': 0, 'audio_tokens': 0, 'reasoning_tokens': 0, 'rejected_prediction_tokens': 0}, 'prompt_tokens_details': {'audio_tokens': 0, 'cached_tokens': 0}}, 'model_name': 'gpt-3.5-turbo-0125', 'system_fingerprint': None, 'finish_reason': 'stop', 'logprobs': None}, id='run-3aa614bb-8b58-4cec-88ca-d6a4f7b491ee-0', usage_metadata={'input_tokens': 1499, 'output_tokens': 340, 'total_tokens': 1839, 'input_token_details': {'audio': 0, 'cache_read': 0}, 'output_token_details': {'audio': 0, 'reasoning': 0}})]}"
      ]
     },
     "execution_count": 37,
     "metadata": {},
     "output_type": "execute_result"
    }
   ],
   "source": [
    "result = agent_executor.invoke(\n",
    "    {\"messages\": [HumanMessage(content=\"What are the achievements of NVIDIA in 2022?\")]}\n",
    ")\n",
    "result"
   ]
  }
 ],
 "metadata": {
  "kernelspec": {
   "display_name": ".deepseek",
   "language": "python",
   "name": "python3"
  },
  "language_info": {
   "codemirror_mode": {
    "name": "ipython",
    "version": 3
   },
   "file_extension": ".py",
   "mimetype": "text/x-python",
   "name": "python",
   "nbconvert_exporter": "python",
   "pygments_lexer": "ipython3",
   "version": "3.11.11"
  }
 },
 "nbformat": 4,
 "nbformat_minor": 2
}
